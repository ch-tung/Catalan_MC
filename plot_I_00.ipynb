{
 "cells": [
  {
   "cell_type": "code",
   "execution_count": 1,
   "metadata": {},
   "outputs": [
    {
     "data": {
      "text/plain": [
       "<Figure size 1152x1152 with 0 Axes>"
      ]
     },
     "metadata": {},
     "output_type": "display_data"
    }
   ],
   "source": [
    "import numpy as np\n",
    "import time\n",
    "from tqdm import tqdm, trange\n",
    "from WLM import WLChain\n",
    "import matplotlib.pyplot as plt\n",
    "from scipy.io import savemat, loadmat"
   ]
  },
  {
   "cell_type": "code",
   "execution_count": 8,
   "metadata": {},
   "outputs": [],
   "source": [
    "data = loadmat(\"S_q_list_param.mat\")\n",
    "S_q_list_param = data[\"S_q_list_param\"]\n",
    "qq = data[\"qq\"]\n",
    "kappa_list = np.array([5,15,45,135])\n",
    "epsilon_list = [0]\n",
    "\n",
    "parameters_list = []\n",
    "for kappa in kappa_list:\n",
    "    for epsilon in epsilon_list:\n",
    "        parameters_list.append([kappa, epsilon])"
   ]
  },
  {
   "cell_type": "code",
   "execution_count": 9,
   "metadata": {},
   "outputs": [
    {
     "name": "stdout",
     "output_type": "stream",
     "text": [
      "[5, 0]\n",
      "[15, 0]\n",
      "[45, 0]\n",
      "[135, 0]\n"
     ]
    }
   ],
   "source": [
    "for j, params in enumerate(parameters_list):\n",
    "    kappa = params[0]\n",
    "    epsilon = params[1]\n",
    "    print(params)"
   ]
  },
  {
   "cell_type": "code",
   "execution_count": 11,
   "metadata": {},
   "outputs": [
    {
     "data": {
      "text/plain": [
       "(1, 4, 101)"
      ]
     },
     "execution_count": 11,
     "metadata": {},
     "output_type": "execute_result"
    }
   ],
   "source": [
    "S_q_list_param.shape"
   ]
  }
 ],
 "metadata": {
  "kernelspec": {
   "display_name": "Python 3 (ipykernel)",
   "language": "python",
   "name": "python3"
  },
  "language_info": {
   "codemirror_mode": {
    "name": "ipython",
    "version": 3
   },
   "file_extension": ".py",
   "mimetype": "text/x-python",
   "name": "python",
   "nbconvert_exporter": "python",
   "pygments_lexer": "ipython3",
   "version": "3.10.14"
  }
 },
 "nbformat": 4,
 "nbformat_minor": 2
}
